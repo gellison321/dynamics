{
 "cells": [
  {
   "cell_type": "code",
   "execution_count": 1,
   "id": "bebf97fe-a7bc-4697-a494-4dc79f802735",
   "metadata": {},
   "outputs": [],
   "source": [
    "from Dynamics import Dynamics, np, plt"
   ]
  },
  {
   "cell_type": "markdown",
   "id": "c659dc7f-6ab7-4691-81b4-ab8e6ca7b9a2",
   "metadata": {},
   "source": [
    "### Modeling the US Labor Market\n",
    "###### Updated August 2020"
   ]
  },
  {
   "cell_type": "code",
   "execution_count": 2,
   "id": "0bdda8de-958c-4d9c-8437-a8e108bc617c",
   "metadata": {},
   "outputs": [
    {
     "ename": "NameError",
     "evalue": "name 'pd' is not defined",
     "output_type": "error",
     "traceback": [
      "\u001b[0;31m---------------------------------------------------------------------------\u001b[0m",
      "\u001b[0;31mNameError\u001b[0m                                 Traceback (most recent call last)",
      "\u001b[0;32m/var/folders/bz/tzynj7lj1y94x5nys6hlwmtr0000gn/T/ipykernel_7590/3057293263.py\u001b[0m in \u001b[0;36m<module>\u001b[0;34m\u001b[0m\n\u001b[0;32m----> 1\u001b[0;31m \u001b[0mdf\u001b[0m \u001b[0;34m=\u001b[0m \u001b[0mpd\u001b[0m\u001b[0;34m.\u001b[0m\u001b[0mread_csv\u001b[0m\u001b[0;34m(\u001b[0m\u001b[0;34m'/Users/grant/Jupyter/Dynamics/Labor Market Data.csv'\u001b[0m\u001b[0;34m)\u001b[0m\u001b[0;34m\u001b[0m\u001b[0;34m\u001b[0m\u001b[0m\n\u001b[0m\u001b[1;32m      2\u001b[0m \u001b[0mdf\u001b[0m\u001b[0;34m.\u001b[0m\u001b[0mcolumns\u001b[0m \u001b[0;34m=\u001b[0m \u001b[0;34m[\u001b[0m\u001b[0;34m'date'\u001b[0m\u001b[0;34m,\u001b[0m \u001b[0;34m'pop'\u001b[0m\u001b[0;34m,\u001b[0m \u001b[0;34m'employed'\u001b[0m\u001b[0;34m,\u001b[0m \u001b[0;34m'unemployed'\u001b[0m\u001b[0;34m,\u001b[0m \u001b[0;34m'eu'\u001b[0m\u001b[0;34m,\u001b[0m\u001b[0;34m'ue'\u001b[0m\u001b[0;34m,\u001b[0m\u001b[0;34m'ne'\u001b[0m\u001b[0;34m,\u001b[0m\u001b[0;34m'un'\u001b[0m\u001b[0;34m,\u001b[0m \u001b[0;34m'en'\u001b[0m\u001b[0;34m,\u001b[0m \u001b[0;34m'nu'\u001b[0m\u001b[0;34m]\u001b[0m\u001b[0;34m\u001b[0m\u001b[0;34m\u001b[0m\u001b[0m\n",
      "\u001b[0;31mNameError\u001b[0m: name 'pd' is not defined"
     ]
    }
   ],
   "source": [
    "df = pd.read_csv('/Users/grant/Jupyter/Dynamics/Labor Market Data.csv')\n",
    "df.columns = ['date', 'pop', 'employed', 'unemployed', 'eu','ue','ne','un', 'en', 'nu']"
   ]
  },
  {
   "cell_type": "code",
   "execution_count": null,
   "id": "cd2bd8d1-a428-4011-8c9c-e58a47eccaae",
   "metadata": {},
   "outputs": [],
   "source": [
    "df"
   ]
  },
  {
   "cell_type": "code",
   "execution_count": null,
   "id": "357661cc-9b39-4129-b979-b20b332ae974",
   "metadata": {},
   "outputs": [],
   "source": [
    "# creating coefficients for movement as \n",
    "df['EU'] = df['eu']/df['employed']\n",
    "df['UE'] = df['ue'] / df['unemployed']\n",
    "df['NE'] = df['ne']/(df['employed']+df['unemployed'])\n",
    "df['UN'] = df['un'] / df['unemployed']\n",
    "df['EN'] = df['en'] / df['employed']\n",
    "df['NU'] = df['nu']/ (df['employed']+df['unemployed'])\n",
    "df['OOLF'] = df['pop'] - df['employed'] - df['unemployed']\n",
    "df = df.iloc[:-1]"
   ]
  },
  {
   "cell_type": "code",
   "execution_count": null,
   "id": "0b41faa8-6f87-4e95-be15-fb249e1d113f",
   "metadata": {},
   "outputs": [],
   "source": [
    "df"
   ]
  },
  {
   "cell_type": "markdown",
   "id": "fab8b083-032f-4d28-aaa9-f010b82df0d6",
   "metadata": {},
   "source": [
    "_____________________________________"
   ]
  },
  {
   "cell_type": "markdown",
   "id": "af669497-f83f-40b5-8072-2f3598a7663e",
   "metadata": {},
   "source": [
    "#### Predicting August 2022 Results\n",
    "##### 24 month moving average"
   ]
  },
  {
   "cell_type": "code",
   "execution_count": null,
   "id": "e6407abf-8234-4fd3-9ec1-31411599def1",
   "metadata": {},
   "outputs": [],
   "source": [
    "# setting our backwards average length in months, and forward predict length in months\n",
    "\n",
    "forward_pred = 1\n",
    "\n",
    "back_avg = 24\n",
    "\n",
    "# defining our coefficients as historical moving averages\n",
    "\n",
    "UE = df['UE'].iloc[-back_avg].mean()\n",
    "NE = df['NE'].iloc[-back_avg].mean()\n",
    "EU = df['EU'].iloc[-back_avg].mean()\n",
    "EN = df['EN'].iloc[-back_avg].mean()\n",
    "NU = df['NU'].iloc[-back_avg].mean()\n",
    "UN = df['UN'].iloc[-back_avg].mean()\n",
    "\n",
    "# defining functions based\n",
    "\n",
    "def e(e, u, n):\n",
    "    return UE*u + NE*n + (1 - EU + EN)*e\n",
    "\n",
    "def u(e, u, n):\n",
    "    return EU*e + NU*n + (1 - UE + UN)*u\n",
    "\n",
    "def n(e, u, n):\n",
    "    return EN*e + UN*u + (1 - NE + NU)*n\n",
    "\n",
    "# Instantiating Dynamics object with a list of functions and initial_conditions\n",
    "\n",
    "initial_conditions = [df['employed'].iloc[-1], \n",
    "                      df['unemployed'].iloc[-1], \n",
    "                      df['OOLF'].iloc[-1]\n",
    "                     ]\n",
    "\n",
    "functions = [e, u, n]\n",
    "\n",
    "dynamics = Dynamics(functions, \n",
    "                    initial_conditions\n",
    "                    )\n",
    "\n",
    "\n",
    "# Calling the recurse() function to model the dynamics\n",
    "\n",
    "dynamics.recurse(divergent_length=forward_pred,\n",
    "                 accuracy = 0.00001 # for convergence\n",
    "                )\n",
    "\n",
    "print('Employed:', round(1000*dynamics.X[0][forward_pred], 2), \n",
    "      ' - Unemployed:', round(1000*dynamics.X[1][forward_pred], 2),\n",
    "      ' - Not in Labor Force:', round(1000*dynamics.X[2][forward_pred],2))\n",
    "\n",
    "#dynamics.trivariate_plot(figsize = (15,15))"
   ]
  },
  {
   "cell_type": "markdown",
   "id": "b0493929-6b92-4872-a6f9-4dfc7e926499",
   "metadata": {},
   "source": [
    "_____________________________________"
   ]
  },
  {
   "cell_type": "markdown",
   "id": "9c9a98d5-9b64-4a3e-9cf2-7c1d1ba683fa",
   "metadata": {},
   "source": [
    "#### Predicting September 2022 Results\n",
    "##### 24 month moving average"
   ]
  },
  {
   "cell_type": "code",
   "execution_count": null,
   "id": "0a3bf52d-f4d5-4ae1-9660-3ed3de1a3f2e",
   "metadata": {},
   "outputs": [],
   "source": [
    "# setting our backwards average length in months, and forward predict length in months\n",
    "\n",
    "forward_pred = 2\n",
    "\n",
    "back_avg = 24\n",
    "\n",
    "UE = df['UE'].iloc[-back_avg].mean()\n",
    "NE = df['NE'].iloc[-back_avg].mean()\n",
    "EU = df['EU'].iloc[-back_avg].mean()\n",
    "EN = df['EN'].iloc[-back_avg].mean()\n",
    "NU = df['NU'].iloc[-back_avg].mean()\n",
    "UN = df['UN'].iloc[-back_avg].mean()\n",
    "\n",
    "# defining functions based on historical coefficients\n",
    "def e(e, u, n):\n",
    "    return UE*u + NE*n + (1 - EU + EN)*e\n",
    "\n",
    "def u(e, u, n):\n",
    "    return EU*e + NU*n + (1 - UE + UN)*u\n",
    "\n",
    "def n(e, u, n):\n",
    "    return EN*e + UN*u + (1 - NE + NU)*n\n",
    "\n",
    "# Instantiating Dynamics object with a list of functions and initial_conditions\n",
    "\n",
    "initial_conditions = [df['employed'].iloc[-1], df['unemployed'].iloc[-1], df['OOLF'].iloc[-1]]\n",
    "functions = [e, u, n]\n",
    "\n",
    "dynamics = Dynamics(functions, \n",
    "                    initial_conditions\n",
    "                    )\n",
    "\n",
    "\n",
    "# Calling the model() function to model the dynamics until we've converged our diverged.\n",
    "\n",
    "\n",
    "dynamics.recurse(divergent_length=forward_pred,\n",
    "                 accuracy = 0.00001 # for convergence\n",
    "                )\n",
    "\n",
    "print('Employed:', round(1000*dynamics.X[0][forward_pred], 2), \n",
    "      ' - Unemployed:', round(1000*dynamics.X[1][forward_pred], 2),\n",
    "      ' - Not in Labor Force:', round(1000*dynamics.X[2][forward_pred],2))\n",
    "\n",
    "#dynamics.trivariate_plot(figsize=(15,15))"
   ]
  },
  {
   "cell_type": "markdown",
   "id": "08a2f671-4754-4bb1-bddd-43a9b8fd94ff",
   "metadata": {},
   "source": [
    "_____________________________________"
   ]
  },
  {
   "cell_type": "markdown",
   "id": "4c6ee941-4392-4887-8fa9-01e5e5e135d3",
   "metadata": {},
   "source": [
    "#### Predicting August 2022 Results\n",
    "##### 120 month moving average"
   ]
  },
  {
   "cell_type": "code",
   "execution_count": null,
   "id": "e63137b8-5fa4-4fe8-872e-0f3e316facbb",
   "metadata": {},
   "outputs": [],
   "source": [
    "# setting our backwards average length in months, and forward predict length in months\n",
    "\n",
    "forward_pred = 2\n",
    "\n",
    "back_avg = 120\n",
    "\n",
    "UE = df['UE'].iloc[-back_avg].mean()\n",
    "NE = df['NE'].iloc[-back_avg].mean()\n",
    "EU = df['EU'].iloc[-back_avg].mean()\n",
    "EN = df['EN'].iloc[-back_avg].mean()\n",
    "NU = df['NU'].iloc[-back_avg].mean()\n",
    "UN = df['UN'].iloc[-back_avg].mean()\n",
    "\n",
    "# defining functions based on historical coefficients\n",
    "def e(e, u, n):\n",
    "    return UE*u + NE*n + (1 - EU + EN)*e\n",
    "\n",
    "def u(e, u, n):\n",
    "    return EU*e + NU*n + (1 - UE + UN)*u\n",
    "\n",
    "def n(e, u, n):\n",
    "    return EN*e + UN*u + (1 - NE + NU)*n\n",
    "\n",
    "# Instantiating Dynamics object with a list of functions and initial_conditions\n",
    "\n",
    "initial_conditions = [df['employed'].iloc[-1], df['unemployed'].iloc[-1], df['OOLF'].iloc[-1]]\n",
    "functions = [e, u, n]\n",
    "\n",
    "dynamics = Dynamics(functions, \n",
    "                    initial_conditions\n",
    "                    )\n",
    "\n",
    "\n",
    "# Calling the model() function to model the dynamics until we've converged our diverged.\n",
    "\n",
    "\n",
    "dynamics.recurse(divergent_length=forward_pred,\n",
    "                 accuracy = 0.00001 # for convergence\n",
    "                )\n",
    "\n",
    "print('Employed:', round(1000*dynamics.X[0][forward_pred], 2), \n",
    "      ' - Unemployed:', round(1000*dynamics.X[1][forward_pred], 2),\n",
    "      ' - Not in Labor Force:', round(1000*dynamics.X[2][forward_pred],2))\n",
    "\n",
    "#dynamics.trivariate_plot(figsize=(15,15))"
   ]
  }
 ],
 "metadata": {
  "kernelspec": {
   "display_name": "Python 3 (ipykernel)",
   "language": "python",
   "name": "python3"
  },
  "language_info": {
   "codemirror_mode": {
    "name": "ipython",
    "version": 3
   },
   "file_extension": ".py",
   "mimetype": "text/x-python",
   "name": "python",
   "nbconvert_exporter": "python",
   "pygments_lexer": "ipython3",
   "version": "3.9.7"
  }
 },
 "nbformat": 4,
 "nbformat_minor": 5
}
